{
 "cells": [
  {
   "cell_type": "code",
   "execution_count": 1,
   "metadata": {
    "collapsed": true
   },
   "outputs": [],
   "source": [
    "import numpy as np\n",
    "import matplotlib.pyplot as plt\n",
    "import pandas as pd\n",
    "%matplotlib inline\n",
    "import seaborn as sns\n",
    "sns.set(context='talk', style='darkgrid', palette='colorblind')"
   ]
  },
  {
   "cell_type": "code",
   "execution_count": 2,
   "metadata": {
    "collapsed": true
   },
   "outputs": [],
   "source": [
    "from sys import path\n",
    "path.append('..')\n",
    "from convexcontrol.main import ControllerR2\n",
    "from convexcontrol.resources import PVSysR2, BatteryR2, DiscreteR2"
   ]
  },
  {
   "cell_type": "code",
   "execution_count": 4,
   "metadata": {},
   "outputs": [],
   "source": [
    "def convert_TCL_con(solar_data):    \n",
    "    horizon = len(solar_data)     \n",
    "    T_ = horizon // 2\n",
    "    assert T_ == 288 # 5min interval \n",
    "    # first-day \n",
    "    solar_day1_cum = solar_data[0:T_].cumsum()\n",
    "    solar_day1_mean = (solar_day1_cum).mean()\n",
    "    # \n",
    "    TCL_day1_points = np.where( (solar_day1_cum < 1.01*solar_day1_mean) & (solar_day1_cum > 0.01*solar_day1_mean), \n",
    "                          1, solar_day1_cum)\n",
    "    \n",
    "    TCL_day1_points = np.where((TCL_day1_points < solar_day1_cum.max()) & (TCL_day1_points >= 1.0*solar_day1_mean), \n",
    "                          2, TCL_day1_points)\n",
    "    TCL_day1_points = np.where((TCL_day1_points < 1) | (TCL_day1_points >= 1.0*solar_day1_mean),\n",
    "                               0, TCL_day1_points)\n",
    "    TCL_day1_points = TCL_day1_points.astype(np.int)\n",
    "    # second day\n",
    "    solar_day2_cum = solar_data[T_:].cumsum()\n",
    "    solar_day2_mean = (solar_day2_cum).mean()\n",
    "    \n",
    "    TCL_day2_points = np.where((solar_day2_cum < 0.9*solar_day2_mean), 0, solar_day2_cum)\n",
    "    TCL_day2_points = np.where((TCL_day2_points < solar_day2_cum.max()) & (TCL_day2_points >= 0.9*solar_day2_mean), 1, TCL_day2_points) \n",
    "    TCL_day2_points = np.where((TCL_day2_points >= solar_day2_mean), 0, TCL_day2_points)\n",
    "    TCL_day2_points = TCL_day2_points.astype(np.int) \n",
    "    # \n",
    "    TCL_points = np.append(TCL_day1_points, TCL_day2_points)    \n",
    "    # mask 0-1  \n",
    "    TCL_points_mask = np.tile(np.concatenate((np.zeros(10), np.ones(10))), 576//20)\n",
    "    TCL_points_mask = np.concatenate((TCL_points_mask, np.zeros(16)))\n",
    "    TCL_points_w_duty = TCL_points_mask * TCL_points\n",
    "    TCL_points_w_duty = np.array(TCL_points_w_duty,dtype=int)   \n",
    "    \n",
    "    return TCL_points_w_duty"
   ]
  },
  {
   "cell_type": "code",
   "execution_count": 5,
   "metadata": {},
   "outputs": [
    {
     "ename": "IOError",
     "evalue": "[Errno 2] No such file or directory: '../data/VPP_data.npz'",
     "output_type": "error",
     "traceback": [
      "\u001b[0;31m---------------------------------------------------------------------------\u001b[0m",
      "\u001b[0;31mIOError\u001b[0m                                   Traceback (most recent call last)",
      "\u001b[0;32m<ipython-input-5-5d1c38e5d067>\u001b[0m in \u001b[0;36m<module>\u001b[0;34m()\u001b[0m\n\u001b[1;32m      1\u001b[0m \u001b[0;31m# load data\u001b[0m\u001b[0;34m\u001b[0m\u001b[0;34m\u001b[0m\u001b[0m\n\u001b[0;32m----> 2\u001b[0;31m \u001b[0mData1\u001b[0m \u001b[0;34m=\u001b[0m \u001b[0mnp\u001b[0m\u001b[0;34m.\u001b[0m\u001b[0mload\u001b[0m\u001b[0;34m(\u001b[0m\u001b[0;34m'../data/VPP_data.npz'\u001b[0m\u001b[0;34m)\u001b[0m\u001b[0;34m\u001b[0m\u001b[0m\n\u001b[0m\u001b[1;32m      3\u001b[0m \u001b[0mreal_agg\u001b[0m \u001b[0;34m=\u001b[0m \u001b[0mData1\u001b[0m\u001b[0;34m[\u001b[0m\u001b[0;34m'real_agg'\u001b[0m\u001b[0;34m]\u001b[0m\u001b[0;34m\u001b[0m\u001b[0m\n\u001b[1;32m      4\u001b[0m \u001b[0mimag_agg\u001b[0m \u001b[0;34m=\u001b[0m \u001b[0mData1\u001b[0m\u001b[0;34m[\u001b[0m\u001b[0;34m'imag_agg'\u001b[0m\u001b[0;34m]\u001b[0m\u001b[0;34m\u001b[0m\u001b[0m\n\u001b[1;32m      5\u001b[0m \u001b[0mSOCmax\u001b[0m \u001b[0;34m=\u001b[0m \u001b[0mData1\u001b[0m\u001b[0;34m[\u001b[0m\u001b[0;34m'SOCmax'\u001b[0m\u001b[0;34m]\u001b[0m\u001b[0;34m\u001b[0m\u001b[0m\n",
      "\u001b[0;32m/Users/bennetmeyers/.virtualenvs/sc/lib/python2.7/site-packages/numpy/lib/npyio.pyc\u001b[0m in \u001b[0;36mload\u001b[0;34m(file, mmap_mode, allow_pickle, fix_imports, encoding)\u001b[0m\n\u001b[1;32m    370\u001b[0m     \u001b[0mown_fid\u001b[0m \u001b[0;34m=\u001b[0m \u001b[0mFalse\u001b[0m\u001b[0;34m\u001b[0m\u001b[0m\n\u001b[1;32m    371\u001b[0m     \u001b[0;32mif\u001b[0m \u001b[0misinstance\u001b[0m\u001b[0;34m(\u001b[0m\u001b[0mfile\u001b[0m\u001b[0;34m,\u001b[0m \u001b[0mbasestring\u001b[0m\u001b[0;34m)\u001b[0m\u001b[0;34m:\u001b[0m\u001b[0;34m\u001b[0m\u001b[0m\n\u001b[0;32m--> 372\u001b[0;31m         \u001b[0mfid\u001b[0m \u001b[0;34m=\u001b[0m \u001b[0mopen\u001b[0m\u001b[0;34m(\u001b[0m\u001b[0mfile\u001b[0m\u001b[0;34m,\u001b[0m \u001b[0;34m\"rb\"\u001b[0m\u001b[0;34m)\u001b[0m\u001b[0;34m\u001b[0m\u001b[0m\n\u001b[0m\u001b[1;32m    373\u001b[0m         \u001b[0mown_fid\u001b[0m \u001b[0;34m=\u001b[0m \u001b[0mTrue\u001b[0m\u001b[0;34m\u001b[0m\u001b[0m\n\u001b[1;32m    374\u001b[0m     \u001b[0;32melif\u001b[0m \u001b[0mis_pathlib_path\u001b[0m\u001b[0;34m(\u001b[0m\u001b[0mfile\u001b[0m\u001b[0;34m)\u001b[0m\u001b[0;34m:\u001b[0m\u001b[0;34m\u001b[0m\u001b[0m\n",
      "\u001b[0;31mIOError\u001b[0m: [Errno 2] No such file or directory: '../data/VPP_data.npz'"
     ]
    }
   ],
   "source": [
    "# load data\n",
    "Data1 = np.load('../data/VPP_data.npz')\n",
    "real_agg = Data1['real_agg']\n",
    "imag_agg = Data1['imag_agg']\n",
    "SOCmax = Data1['SOCmax']\n",
    "battmin = Data1['battmin']\n",
    "battmax = Data1['battmax']\n",
    "PV_inv_max = Data1['PV_inv_max']\n",
    "Q = Data1['Q']\n",
    "Q = Q.flatten()/12\n",
    "Q = Q/SOCmax\n",
    "\n",
    "Data2 = np.load('../data/other.npz')\n",
    "solar = Data2['solar']\n",
    "solar = np.r_[solar.flatten(), 0]\n",
    "TCL_points_w_duty = convert_TCL_con(solar)\n",
    "\n",
    "agg_point = np.vstack((real_agg,imag_agg))"
   ]
  },
  {
   "cell_type": "code",
   "execution_count": null,
   "metadata": {
    "collapsed": true
   },
   "outputs": [],
   "source": []
  }
 ],
 "metadata": {
  "kernelspec": {
   "display_name": "Python 2",
   "language": "python",
   "name": "python2"
  },
  "language_info": {
   "codemirror_mode": {
    "name": "ipython",
    "version": 2
   },
   "file_extension": ".py",
   "mimetype": "text/x-python",
   "name": "python",
   "nbconvert_exporter": "python",
   "pygments_lexer": "ipython2",
   "version": "2.7.12"
  }
 },
 "nbformat": 4,
 "nbformat_minor": 2
}
